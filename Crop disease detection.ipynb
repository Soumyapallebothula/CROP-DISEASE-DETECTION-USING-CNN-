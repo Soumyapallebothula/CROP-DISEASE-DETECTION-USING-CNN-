{
 "cells": [
  {
   "cell_type": "code",
   "execution_count": 3,
   "metadata": {},
   "outputs": [],
   "source": [
    "#import tensorflow as tf\n",
    "from tensorflow import keras\n",
    "#from tensorflow.keras import layers\n",
    "from tensorflow.keras.models import Sequential\n",
    "from  tensorflow.keras.layers import Dense,Conv2D,MaxPooling2D,Flatten"
   ]
  },
  {
   "cell_type": "code",
   "execution_count": 4,
   "metadata": {},
   "outputs": [],
   "source": [
    "model_cnn=keras.Sequential()\n"
   ]
  },
  {
   "cell_type": "code",
   "execution_count": 5,
   "metadata": {},
   "outputs": [],
   "source": [
    "model_cnn.add(Conv2D(32,3,3,input_shape=(64,64,3),activation='relu'))"
   ]
  },
  {
   "cell_type": "code",
   "execution_count": 6,
   "metadata": {},
   "outputs": [],
   "source": [
    "\n",
    "model_cnn.add(MaxPooling2D(pool_size=(2,2)))"
   ]
  },
  {
   "cell_type": "code",
   "execution_count": 7,
   "metadata": {},
   "outputs": [],
   "source": [
    "model_cnn.add(Flatten())"
   ]
  },
  {
   "cell_type": "markdown",
   "metadata": {},
   "source": [
    "# hidden layer"
   ]
  },
  {
   "cell_type": "code",
   "execution_count": 8,
   "metadata": {},
   "outputs": [],
   "source": [
    "model_cnn.add(Dense(100,activation='relu'))"
   ]
  },
  {
   "cell_type": "markdown",
   "metadata": {},
   "source": [
    "# output layer"
   ]
  },
  {
   "cell_type": "code",
   "execution_count": 9,
   "metadata": {},
   "outputs": [],
   "source": [
    "model_cnn.add(Dense(6,activation='softmax'))"
   ]
  },
  {
   "cell_type": "markdown",
   "metadata": {},
   "source": [
    "# compile"
   ]
  },
  {
   "cell_type": "code",
   "execution_count": 10,
   "metadata": {},
   "outputs": [],
   "source": [
    "model_cnn.compile(optimizer='adam',loss='categorical_crossentropy',metrics=['accuracy'])"
   ]
  },
  {
   "cell_type": "code",
   "execution_count": 11,
   "metadata": {},
   "outputs": [
    {
     "name": "stderr",
     "output_type": "stream",
     "text": [
      "Using TensorFlow backend.\n"
     ]
    }
   ],
   "source": [
    "from keras.preprocessing.image import ImageDataGenerator\n",
    "train_datagen=ImageDataGenerator(rescale=1./255,shear_range=0.2,zoom_range=0.2,horizontal_flip=True)"
   ]
  },
  {
   "cell_type": "code",
   "execution_count": 12,
   "metadata": {},
   "outputs": [],
   "source": [
    "test_datagen=ImageDataGenerator(rescale=1./255)"
   ]
  },
  {
   "cell_type": "code",
   "execution_count": 13,
   "metadata": {},
   "outputs": [
    {
     "name": "stdout",
     "output_type": "stream",
     "text": [
      "Found 493 images belonging to 6 classes.\n"
     ]
    }
   ],
   "source": [
    "x_train=train_datagen.flow_from_directory(r\"C:\\Users\\SOUMYA\\Desktop\\project learning\\rice crop disease\\crop detection\\trainingset\",target_size=(64,64),batch_size=32,class_mode='categorical')\n"
   ]
  },
  {
   "cell_type": "code",
   "execution_count": 14,
   "metadata": {},
   "outputs": [
    {
     "name": "stdout",
     "output_type": "stream",
     "text": [
      "Found 116 images belonging to 6 classes.\n"
     ]
    }
   ],
   "source": [
    "x_test=test_datagen.flow_from_directory(r\"C:\\Users\\SOUMYA\\Desktop\\project learning\\rice crop disease\\crop detection\\test set\",target_size=(64,64),batch_size=32,class_mode='categorical')"
   ]
  },
  {
   "cell_type": "code",
   "execution_count": 15,
   "metadata": {},
   "outputs": [
    {
     "data": {
      "text/plain": [
       "{'bacterial leaf blight': 0,\n",
       " 'blast': 1,\n",
       " 'false smut': 2,\n",
       " 'normal': 3,\n",
       " 'rice tungro': 4,\n",
       " 'sheath blight': 5}"
      ]
     },
     "execution_count": 15,
     "metadata": {},
     "output_type": "execute_result"
    }
   ],
   "source": [
    "x_train.class_indices"
   ]
  },
  {
   "cell_type": "code",
   "execution_count": 16,
   "metadata": {},
   "outputs": [
    {
     "data": {
      "text/plain": [
       "{'bacterial leaf blight': 0,\n",
       " 'blast': 1,\n",
       " 'false smut': 2,\n",
       " 'normal': 3,\n",
       " 'rice tungro': 4,\n",
       " 'sheath blight': 5}"
      ]
     },
     "execution_count": 16,
     "metadata": {},
     "output_type": "execute_result"
    }
   ],
   "source": [
    "x_test.class_indices"
   ]
  },
  {
   "cell_type": "code",
   "execution_count": 21,
   "metadata": {
    "scrolled": false
   },
   "outputs": [
    {
     "name": "stdout",
     "output_type": "stream",
     "text": [
      "Epoch 1/25\n",
      "493/493 [==============================] - 156s 317ms/step - loss: 1.3758 - accuracy: 0.4672 - val_loss: 1.6585 - val_accuracy: 0.3534\n",
      "Epoch 2/25\n",
      "493/493 [==============================] - 155s 314ms/step - loss: 0.9000 - accuracy: 0.6784 - val_loss: 1.9256 - val_accuracy: 0.3621\n",
      "Epoch 3/25\n",
      "493/493 [==============================] - 154s 313ms/step - loss: 0.6228 - accuracy: 0.7890 - val_loss: 2.0191 - val_accuracy: 0.3534\n",
      "Epoch 4/25\n",
      "493/493 [==============================] - 154s 312ms/step - loss: 0.4558 - accuracy: 0.8443 - val_loss: 2.2698 - val_accuracy: 0.4224\n",
      "Epoch 5/25\n",
      "493/493 [==============================] - 160s 325ms/step - loss: 0.3463 - accuracy: 0.8806 - val_loss: 2.5039 - val_accuracy: 0.4310\n",
      "Epoch 6/25\n",
      "493/493 [==============================] - 155s 314ms/step - loss: 0.2822 - accuracy: 0.9033 - val_loss: 2.6234 - val_accuracy: 0.4310\n",
      "Epoch 7/25\n",
      "493/493 [==============================] - 157s 319ms/step - loss: 0.2368 - accuracy: 0.9153 - val_loss: 2.8250 - val_accuracy: 0.4397\n",
      "Epoch 8/25\n",
      "493/493 [==============================] - 160s 325ms/step - loss: 0.2081 - accuracy: 0.9269 - val_loss: 2.7548 - val_accuracy: 0.4828\n",
      "Epoch 9/25\n",
      "493/493 [==============================] - 158s 320ms/step - loss: 0.1983 - accuracy: 0.9288 - val_loss: 3.0380 - val_accuracy: 0.4397\n",
      "Epoch 10/25\n",
      "493/493 [==============================] - 157s 319ms/step - loss: 0.1727 - accuracy: 0.9333 - val_loss: 3.2930 - val_accuracy: 0.4483\n",
      "Epoch 11/25\n",
      "493/493 [==============================] - 158s 320ms/step - loss: 0.1689 - accuracy: 0.9340 - val_loss: 3.1234 - val_accuracy: 0.4483\n",
      "Epoch 12/25\n",
      "493/493 [==============================] - 161s 326ms/step - loss: 0.1543 - accuracy: 0.9386 - val_loss: 3.2808 - val_accuracy: 0.4483\n",
      "Epoch 13/25\n",
      "493/493 [==============================] - 161s 326ms/step - loss: 0.1470 - accuracy: 0.9412 - val_loss: 3.3206 - val_accuracy: 0.4569\n",
      "Epoch 14/25\n",
      "493/493 [==============================] - 161s 327ms/step - loss: 0.1470 - accuracy: 0.9398 - val_loss: 3.2573 - val_accuracy: 0.4655\n",
      "Epoch 15/25\n",
      "493/493 [==============================] - 160s 325ms/step - loss: 0.1463 - accuracy: 0.9406 - val_loss: 3.1839 - val_accuracy: 0.4569\n",
      "Epoch 16/25\n",
      "493/493 [==============================] - 156s 316ms/step - loss: 0.1354 - accuracy: 0.9444 - val_loss: 3.1995 - val_accuracy: 0.4741\n",
      "Epoch 17/25\n",
      "493/493 [==============================] - 155s 315ms/step - loss: 0.1293 - accuracy: 0.9449 - val_loss: 3.2727 - val_accuracy: 0.4741\n",
      "Epoch 18/25\n",
      "493/493 [==============================] - 154s 313ms/step - loss: 0.1308 - accuracy: 0.9450 - val_loss: 3.2616 - val_accuracy: 0.5000\n",
      "Epoch 19/25\n",
      "493/493 [==============================] - 155s 315ms/step - loss: 0.1196 - accuracy: 0.9480 - val_loss: 3.4868 - val_accuracy: 0.4569\n",
      "Epoch 20/25\n",
      "493/493 [==============================] - 156s 317ms/step - loss: 0.1221 - accuracy: 0.9460 - val_loss: 3.2118 - val_accuracy: 0.4914\n",
      "Epoch 21/25\n",
      "493/493 [==============================] - 155s 315ms/step - loss: 0.1216 - accuracy: 0.9475 - val_loss: 3.3801 - val_accuracy: 0.4828\n",
      "Epoch 22/25\n",
      "493/493 [==============================] - 154s 312ms/step - loss: 0.1154 - accuracy: 0.9500 - val_loss: 3.5929 - val_accuracy: 0.4483\n",
      "Epoch 23/25\n",
      "493/493 [==============================] - 158s 320ms/step - loss: 0.1205 - accuracy: 0.9485 - val_loss: 3.2530 - val_accuracy: 0.5172\n",
      "Epoch 24/25\n",
      "493/493 [==============================] - 340s 690ms/step - loss: 0.1160 - accuracy: 0.9511 - val_loss: 3.6018 - val_accuracy: 0.4914\n",
      "Epoch 25/25\n",
      "493/493 [==============================] - 394s 800ms/step - loss: 0.1097 - accuracy: 0.9507 - val_loss: 3.4157 - val_accuracy: 0.4828\n"
     ]
    },
    {
     "data": {
      "text/plain": [
       "<tensorflow.python.keras.callbacks.History at 0x22c034ed5c0>"
      ]
     },
     "execution_count": 21,
     "metadata": {},
     "output_type": "execute_result"
    }
   ],
   "source": [
    "model_cnn.fit_generator(x_train,steps_per_epoch=493,epochs=25,validation_data=x_test,validation_steps=116)\n"
   ]
  },
  {
   "cell_type": "code",
   "execution_count": 31,
   "metadata": {},
   "outputs": [],
   "source": [
    "model_cnn.save(\"model.h5\")\n",
    "\n",
    "\n",
    "\n",
    "\n"
   ]
  },
  {
   "cell_type": "code",
   "execution_count": null,
   "metadata": {},
   "outputs": [],
   "source": []
  },
  {
   "cell_type": "code",
   "execution_count": null,
   "metadata": {},
   "outputs": [],
   "source": []
  }
 ],
 "metadata": {
  "kernelspec": {
   "display_name": "Python 3",
   "language": "python",
   "name": "python3"
  },
  "language_info": {
   "codemirror_mode": {
    "name": "ipython",
    "version": 3
   },
   "file_extension": ".py",
   "mimetype": "text/x-python",
   "name": "python",
   "nbconvert_exporter": "python",
   "pygments_lexer": "ipython3",
   "version": "3.7.3"
  }
 },
 "nbformat": 4,
 "nbformat_minor": 2
}
